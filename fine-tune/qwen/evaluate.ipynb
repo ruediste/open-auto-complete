{
 "cells": [
  {
   "cell_type": "code",
   "execution_count": null,
   "metadata": {},
   "outputs": [],
   "source": [
    "import torch\n",
    "import openvino as ov\n",
    "useOpenVino=False\n",
    "if (torch.cuda.is_available()):\n",
    "    torch.set_default_device('cuda:0')\n",
    "else: \n",
    "    print('OpenVINO Devices: ' ,ov.Core().available_devices)\n",
    "    ovDevice=ov.Core().available_devices[-1]\n",
    "    print(\"Using OpenVINO device \"+ovDevice)\n",
    "    useOpenVino=True\n",
    "print('CUDA available: '+str(torch.cuda.is_available()))\n",
    "print(\"Using OpenVino: \"+ str(useOpenVino))\n",
    "\n",
    "# model_name='./data/qwen_fixed';\n",
    "model_name='./data/fine_tuned_qwen_adapter2';"
   ]
  },
  {
   "cell_type": "code",
   "execution_count": 3,
   "metadata": {},
   "outputs": [],
   "source": [
    "from transformers import AutoModelForCausalLM, AutoTokenizer, BitsAndBytesConfig\n",
    "if not useOpenVino:\n",
    "    model = AutoModelForCausalLM.from_pretrained(model_name)\n",
    "    tokenizer = AutoTokenizer.from_pretrained(model_name)"
   ]
  },
  {
   "cell_type": "code",
   "execution_count": null,
   "metadata": {},
   "outputs": [],
   "source": [
    "from optimum.intel import OVModelForCausalLM, OVWeightQuantizationConfig\n",
    "from transformers import AutoTokenizer\n",
    "\n",
    "if useOpenVino:\n",
    "    quantization_config = OVWeightQuantizationConfig(bits=4)\n",
    "    model = OVModelForCausalLM.from_pretrained(model_name, library='transformers',device=ovDevice)\n",
    "    tokenizer = AutoTokenizer.from_pretrained(model_name)"
   ]
  },
  {
   "cell_type": "code",
   "execution_count": 4,
   "metadata": {},
   "outputs": [],
   "source": [
    "# from transformers import AutoTokenizer, AutoModelForCausalLM\n",
    "\n",
    "# model = AutoModelForCausalLM.from_pretrained('./data/qwen_fixed')\n",
    "# tokenizer = AutoTokenizer.from_pretrained('./data/qwen_fixed')"
   ]
  },
  {
   "cell_type": "code",
   "execution_count": null,
   "metadata": {},
   "outputs": [],
   "source": [
    "from datasets import Dataset\n",
    "ds=Dataset.from_json('data/data.json')"
   ]
  },
  {
   "cell_type": "code",
   "execution_count": null,
   "metadata": {},
   "outputs": [],
   "source": [
    "print(ds)"
   ]
  },
  {
   "cell_type": "code",
   "execution_count": null,
   "metadata": {},
   "outputs": [],
   "source": [
    "import torch\n",
    "import time\n",
    "fim_prefix_id = tokenizer.convert_tokens_to_ids(\"<|fim_prefix|>\")\n",
    "fim_suffix_id = tokenizer.convert_tokens_to_ids(\"<|fim_suffix|>\")\n",
    "fim_middle_id = tokenizer.convert_tokens_to_ids(\"<|fim_middle|>\")\n",
    "fim_pad_id = tokenizer.convert_tokens_to_ids(\"<|fim_pad|>\")\n",
    "endoftext_id = tokenizer.convert_tokens_to_ids(\"<|endoftext|>\")\n",
    "plus_ids = tokenizer(\"+++\")[\"input_ids\"]\n",
    "newline_ids = tokenizer(\"\\n\")[\"input_ids\"]\n",
    "space_ids = tokenizer(\" \")[\"input_ids\"]\n",
    "\n",
    "def padToLength(list,length, padding):\n",
    "    result=list[:length]\n",
    "    return [padding]*(length-len(result))+result;\n",
    "\n",
    "def generate_response(examples):\n",
    "    # Tokenize all prefixes and suffixes together\n",
    "    language_ids = tokenizer(examples[\"language\"], add_special_tokens=False, split_special_tokens=True)[\"input_ids\"]\n",
    "    path_ids = tokenizer(['/'.join(path.split('/')[-5:]) for path in examples[\"fileName\"]], add_special_tokens=False, split_special_tokens=True)[\"input_ids\"]\n",
    "    prefix_ids = tokenizer(examples[\"prefix\"], add_special_tokens=False, split_special_tokens=True)[\"input_ids\"]\n",
    "    suffix_ids = tokenizer(examples[\"suffix\"], add_special_tokens=False,split_special_tokens=True)[\"input_ids\"]\n",
    "\n",
    "\n",
    "    # Combine the IDs for each example in the batch\n",
    "    prompt_ids = [\n",
    "       [fim_prefix_id]+plus_ids+language+space_ids+path+ newline_ids+ prefix + [fim_suffix_id] + suffix +[fim_middle_id]\n",
    "       for language, path,prefix, suffix in zip(language_ids, path_ids,prefix_ids, suffix_ids)\n",
    "    ]\n",
    "\n",
    "    attention_mask = [[1] * len(ids) for ids in prompt_ids]\n",
    "\n",
    "    # pad batch\n",
    "    max_length= max_length = max([len(ids) for ids in prompt_ids])\n",
    "    p_prompt_ids=[padToLength(ids,max_length, fim_pad_id) for ids in prompt_ids]\n",
    "    p_attention_mask=[padToLength(ids,max_length, 0) for ids in attention_mask]\n",
    "\n",
    "    outputs = model.generate(**{\n",
    "        \"input_ids\": torch.tensor(p_prompt_ids, dtype=torch.int64),\n",
    "        \"attention_mask\":torch.tensor(p_attention_mask, dtype=torch.int64)\n",
    "    },max_new_tokens=20,eos_token_id=[endoftext_id,fim_pad_id ] ,pad_token_id=fim_pad_id)\n",
    "    outputs = [out[max_length:] for out,prompt in zip(outputs,prompt_ids)]\n",
    "    response= [tokenizer.decode(ids, clean_up_tokenization_spaces=True, skip_special_tokens=True) for ids in outputs]\n",
    "    return {\n",
    "        'response': response, \n",
    "        'match': [r.startswith(exp) for r,exp in zip(response, examples['expected'])]\n",
    "    }\n",
    "\n",
    "ds2=ds.shuffle(seed=42).map(generate_response, batched=True, batch_size=8)"
   ]
  },
  {
   "cell_type": "code",
   "execution_count": 9,
   "metadata": {},
   "outputs": [],
   "source": [
    "import json\n",
    "rows=[]\n",
    "for example in ds2:\n",
    "    # print('PREFIX: '+example['prefix'])\n",
    "    # print('RESPOSE: '+example['response'])\n",
    "    # print('MATCH: '+str(example['match']))\n",
    "    row=example['parameters'].copy()\n",
    "    row['match']=example['match']\n",
    "    rows.append(row)\n",
    "# print(rows)\n",
    "with open('data/results1.json', 'w') as file:\n",
    "    json.dump(rows, file, indent=2)"
   ]
  },
  {
   "cell_type": "code",
   "execution_count": 9,
   "metadata": {},
   "outputs": [],
   "source": [
    "# ds2.to_json('data/evaluation.json')"
   ]
  }
 ],
 "metadata": {
  "kernelspec": {
   "display_name": "Python 3 (ipykernel)",
   "language": "python",
   "name": "python3"
  },
  "language_info": {
   "codemirror_mode": {
    "name": "ipython",
    "version": 3
   },
   "file_extension": ".py",
   "mimetype": "text/x-python",
   "name": "python",
   "nbconvert_exporter": "python",
   "pygments_lexer": "ipython3",
   "version": "3.12.3"
  }
 },
 "nbformat": 4,
 "nbformat_minor": 2
}
