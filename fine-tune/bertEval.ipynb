{
 "cells": [
  {
   "cell_type": "code",
   "execution_count": null,
   "metadata": {},
   "outputs": [],
   "source": [
    "from transformers import AutoModelForMaskedLM, AutoTokenizer\n",
    "tokenizer=AutoTokenizer.from_pretrained('data/bert')\n",
    "\n",
    "model = AutoModelForMaskedLM.from_pretrained('data/bert')\n",
    "tokenizer = AutoTokenizer.from_pretrained('data/bert')"
   ]
  },
  {
   "cell_type": "code",
   "execution_count": null,
   "metadata": {},
   "outputs": [],
   "source": [
    "from tokenizers import decoders\n",
    "tokenizer._tokenizer.decoder=decoders.ByteLevel()\n",
    "tokenizer.clean_up_tokenization_spaces=True\n",
    "tokenizer.save_pretrained('data/bert')"
   ]
  },
  {
   "cell_type": "code",
   "execution_count": null,
   "metadata": {},
   "outputs": [],
   "source": [
    "\n"
   ]
  },
  {
   "cell_type": "code",
   "execution_count": null,
   "metadata": {},
   "outputs": [],
   "source": [
    "import torch;\n",
    "import torch.nn.functional as F\n",
    "\n",
    "sample=tokenizer('bool first=true<|mask|><|mask|><|mask|><|mask|><|mask|>;\\n', return_tensors=\"pt\")\n",
    "# sample=tokenizer('namespace Sample.Model;\\npublic <|mask|><|mask|><|mask|><|mask|> User {\\n', return_tensors=\"pt\")\n",
    "print(sample['input_ids'])\n",
    "res=model(**sample).logits\n",
    "probs=F.softmax(res, dim=-1);\n",
    "\n",
    "print(probs.max(-1))\n",
    "# print(res.argmax(-1))\n",
    "res=res.argmax(-1)\n",
    "print(tokenizer.decode(res[0].tolist(), skip_special_tokens=True,))"
   ]
  },
  {
   "cell_type": "code",
   "execution_count": null,
   "metadata": {},
   "outputs": [],
   "source": [
    "tokenizer"
   ]
  }
 ],
 "metadata": {
  "kernelspec": {
   "display_name": ".venv",
   "language": "python",
   "name": "python3"
  },
  "language_info": {
   "codemirror_mode": {
    "name": "ipython",
    "version": 3
   },
   "file_extension": ".py",
   "mimetype": "text/x-python",
   "name": "python",
   "nbconvert_exporter": "python",
   "pygments_lexer": "ipython3",
   "version": "3.12.3"
  }
 },
 "nbformat": 4,
 "nbformat_minor": 2
}
