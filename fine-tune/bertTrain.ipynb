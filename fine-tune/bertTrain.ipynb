{
 "cells": [
  {
   "cell_type": "code",
   "execution_count": 1,
   "metadata": {},
   "outputs": [],
   "source": [
    "#%pip install tokenizers"
   ]
  },
  {
   "cell_type": "code",
   "execution_count": null,
   "metadata": {},
   "outputs": [],
   "source": [
    "from datasets import load_dataset\n",
    "dataset = load_dataset(\"ruediste/codeparrot-github-code-10G\", \"cs\", split=\"train\")\n",
    "dataset\n"
   ]
  },
  {
   "cell_type": "code",
   "execution_count": null,
   "metadata": {},
   "outputs": [],
   "source": [
    "from tokenizers import (\n",
    "    decoders,\n",
    "    models,\n",
    "    normalizers,\n",
    "    pre_tokenizers,\n",
    "    processors,\n",
    "    trainers,\n",
    "    Tokenizer,\n",
    ")\n",
    "tokenizer = Tokenizer(models.BPE())\n",
    "tokenizer.pre_tokenizer = pre_tokenizers.ByteLevel(add_prefix_space=False)\n",
    "tokenizer.decoder=decoders.ByteLevel()\n",
    "\n",
    "special_tokens = [\"<|pad|>\", \"<|mask|>\", \"<|cls|>\"]\n",
    "tokenizer.add_special_tokens(special_tokens)\n",
    "trainer = trainers.BpeTrainer(vocab_size=25000, special_tokens=special_tokens,max_token_length=10, show_progress=True)\n",
    "\n",
    "def datasetGenerator():\n",
    "    for row in dataset.take(50000):\n",
    "        yield row['code']\n",
    "\n",
    "tokenizer.train_from_iterator(datasetGenerator(), trainer=trainer)"
   ]
  },
  {
   "cell_type": "code",
   "execution_count": null,
   "metadata": {},
   "outputs": [],
   "source": [
    "from transformers import PreTrainedTokenizerFast\n",
    "\n",
    "\n",
    "hft=PreTrainedTokenizerFast(pad_token='<|pad|>', cls_token='<|cls|>', mask_token='<|mask|>', tokenizer_object=tokenizer )\n",
    "\n",
    "hft.save_pretrained('data/bert')\n",
    "tokenizer=hft\n"
   ]
  },
  {
   "cell_type": "code",
   "execution_count": 16,
   "metadata": {},
   "outputs": [],
   "source": [
    "from transformers import PreTrainedTokenizerFast, AutoTokenizer\n",
    "tokenizer=AutoTokenizer.from_pretrained('data/bert')"
   ]
  },
  {
   "cell_type": "code",
   "execution_count": null,
   "metadata": {},
   "outputs": [],
   "source": [
    "import random\n",
    "def generateExamples(rows, language):\n",
    "    prefixes=[]\n",
    "    suffixes=[]\n",
    "    completions=[]\n",
    "    paths=[]\n",
    "    languages=[]\n",
    "    chunkSize=1000    \n",
    "    for i,code in enumerate(rows[\"code\"]):\n",
    "        base=0;\n",
    "        while base < len(code):\n",
    "            for completionSize in [5,10,20,100,200,400]:\n",
    "              idx=random.randint(base, min(len(code),base+chunkSize))\n",
    "              prefixes.append(code[max(0,idx-200):idx])\n",
    "              completions.append(code[idx:idx+completionSize])\n",
    "              suffixes.append(code[idx+completionSize:idx+completionSize+10])\n",
    "              paths.append(rows['path'][i])\n",
    "              #  languages.append(rows['language'][i])\n",
    "              languages.append(language)\n",
    "            base+=chunkSize\n",
    "    return {\"prefix\":prefixes, \"suffix\":suffixes, \"completion\":completions, \"path\":paths,\"language\": languages}\n",
    "\n",
    "ds=dataset.take(2000).map(lambda rows:generateExamples(rows, 'cs'), batched=True, remove_columns=['code','size','license','repo_name'], num_proc=8)\n",
    "ds"
   ]
  },
  {
   "cell_type": "code",
   "execution_count": null,
   "metadata": {},
   "outputs": [],
   "source": [
    "\n",
    "pad = tokenizer.convert_tokens_to_ids(\"<|pad|>\")\n",
    "mask = tokenizer.convert_tokens_to_ids(\"<|mask|>\")\n",
    "cls = tokenizer.convert_tokens_to_ids(\"<|cls|>\")\n",
    "\n",
    "predictionTokens=5\n",
    "\n",
    "def tokenize_function(examples):\n",
    "    # Tokenize all prefixes and suffixes together\n",
    "    prefix_ids = tokenizer(examples[\"prefix\"], add_special_tokens=False, split_special_tokens=True)[\"input_ids\"]\n",
    "    suffix_ids = tokenizer(examples[\"suffix\"], add_special_tokens=False,split_special_tokens=True)[\"input_ids\"]\n",
    "    completion_ids = tokenizer(examples[\"completion\"], add_special_tokens=False, split_special_tokens=True)[\"input_ids\"]\n",
    "\n",
    "    # Combine the IDs for each example in the batch\n",
    "    input_ids = [\n",
    "       prefix + [mask]*predictionTokens + suffix \n",
    "       for prefix,completion, suffix in zip(prefix_ids, completion_ids, suffix_ids)\n",
    "    ]\n",
    "\n",
    "    # Create labels, replacing prefix and suffix with -100\n",
    "    label_ids =  [\n",
    "       prefix + completion[:predictionTokens]+[pad]*(max(0,predictionTokens-len(completion))) + suffix \n",
    "       for prefix,completion, suffix in zip(prefix_ids, completion_ids, suffix_ids)\n",
    "    ]\n",
    "\n",
    "    attention_mask = [[1] * len(ids) for ids in input_ids]\n",
    "\n",
    "    return {\n",
    "        \"input_ids\": input_ids,\n",
    "        \"labels\": label_ids,\n",
    "        \"attention_mask\":attention_mask\n",
    "    }\n",
    "\n",
    "tokenized_dataset = ds.map(tokenize_function, batched=True,batch_size=10, num_proc=8, remove_columns=['path','language','prefix','suffix','completion'])\n",
    "tokenized_dataset"
   ]
  },
  {
   "cell_type": "code",
   "execution_count": null,
   "metadata": {},
   "outputs": [],
   "source": [
    "for ex in tokenized_dataset.take(2):\n",
    "    print(ex['input_ids'])\n",
    "    print(ex['labels'])\n",
    "    print(len(ex['input_ids']))\n",
    "    print(len(ex['labels']))\n",
    "    print(len(ex['attention_mask']))"
   ]
  },
  {
   "cell_type": "code",
   "execution_count": null,
   "metadata": {},
   "outputs": [],
   "source": [
    "from transformers import BertModel, BertForMaskedLM, BertConfig\n",
    "\n",
    "config=BertConfig(vocab_size=25000, hidden_size=256, num_hidden_layers=4, num_attention_heads=4, intermediate_size=1024, max_position_embeddings=2048)\n",
    "model=BertForMaskedLM(config)"
   ]
  },
  {
   "cell_type": "code",
   "execution_count": null,
   "metadata": {},
   "outputs": [],
   "source": [
    "def print_trainable_parameters(model):\n",
    "    \"\"\"\n",
    "    Prints the number of trainable parameters in the model.\n",
    "    \"\"\"\n",
    "    trainable_params = 0\n",
    "    all_param = 0\n",
    "    for _, param in model.named_parameters():\n",
    "        all_param += param.numel()\n",
    "        if param.requires_grad:\n",
    "            trainable_params += param.numel()\n",
    "    print(\n",
    "        f\"trainable params: {trainable_params} || all params: {all_param} || trainable: {100 * trainable_params / all_param}%\"\n",
    "    )\n",
    "print_trainable_parameters(model)"
   ]
  },
  {
   "cell_type": "code",
   "execution_count": 9,
   "metadata": {},
   "outputs": [],
   "source": [
    "splitds=tokenized_dataset.train_test_split(2000)\n",
    "splitds['test']"
   ]
  },
  {
   "cell_type": "code",
   "execution_count": null,
   "metadata": {},
   "outputs": [],
   "source": [
    "from transformers import TrainingArguments,DataCollatorForLanguageModeling,Trainer\n",
    "import torch\n",
    "import math\n",
    "\n",
    "def padToLength(list,length, padding):\n",
    "    result=list[:length]\n",
    "    return result + [padding]*(length-len(result));\n",
    "\n",
    "class MyDataCollator:\n",
    "    def __call__(self, features) :\n",
    "        max_length = max([len(feature['input_ids']) for feature in features])\n",
    "        max_length=32*math.ceil(max_length/32)\n",
    "        return {\n",
    "            \"input_ids\": torch.tensor([padToLength(feature['input_ids'],max_length, tokenizer.pad_token_id ) for feature in features], dtype=torch.int64),\n",
    "            \"labels\": torch.tensor([padToLength(feature['labels'],max_length, -100 ) for feature in features], dtype=torch.int64),\n",
    "            \"attention_mask\":torch.tensor([padToLength(feature['attention_mask'],max_length, 0 ) for feature in features], dtype=torch.int64),\n",
    "        }\n",
    "\n",
    "batch_size = 64\n",
    "\n",
    "training_args = TrainingArguments(\n",
    "    num_train_epochs=10,\n",
    "    output_dir=\"data/bert/check\",\n",
    "    overwrite_output_dir=True,\n",
    "    eval_strategy=\"steps\",\n",
    "    eval_steps=1000,\n",
    "    logging_strategy=\"steps\",\n",
    "    logging_steps=100,\n",
    "    save_strategy=\"steps\",\n",
    "    save_steps=2000,\n",
    "    learning_rate=2e-5,\n",
    "    weight_decay=0.01,\n",
    "    per_device_train_batch_size=batch_size,\n",
    "    per_device_eval_batch_size=batch_size,\n",
    "    fp16=True,\n",
    "    #  gradient_checkpointing=True,\n",
    "    # gradient_accumulation_steps=4,\n",
    "    )\n",
    "\n",
    "trainer = Trainer(\n",
    "    model=model,\n",
    "    args=training_args,\n",
    "    train_dataset=splitds[\"train\"],\n",
    "    eval_dataset=splitds[\"test\"],\n",
    "    data_collator=MyDataCollator(),\n",
    "    processing_class=tokenizer,\n",
    ")\n",
    "\n",
    "trainer.train()\n",
    "\n",
    "trainer.save_model('data/bert')"
   ]
  },
  {
   "cell_type": "code",
   "execution_count": null,
   "metadata": {},
   "outputs": [],
   "source": []
  }
 ],
 "metadata": {
  "kernelspec": {
   "display_name": ".venv",
   "language": "python",
   "name": "python3"
  },
  "language_info": {
   "codemirror_mode": {
    "name": "ipython",
    "version": 3
   },
   "file_extension": ".py",
   "mimetype": "text/x-python",
   "name": "python",
   "nbconvert_exporter": "python",
   "pygments_lexer": "ipython3",
   "version": "3.12.3"
  }
 },
 "nbformat": 4,
 "nbformat_minor": 2
}
