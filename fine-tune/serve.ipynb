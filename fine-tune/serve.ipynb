{
 "cells": [
  {
   "cell_type": "code",
   "execution_count": 1,
   "metadata": {},
   "outputs": [],
   "source": [
    "#%pip install peft datasets ipywidgets bitsandbytes transformers optimum[openvino] nncf optimum[ipex]"
   ]
  },
  {
   "cell_type": "code",
   "execution_count": 2,
   "metadata": {},
   "outputs": [],
   "source": [
    "#%pip freeze > requirements.txt"
   ]
  },
  {
   "cell_type": "code",
   "execution_count": 3,
   "metadata": {},
   "outputs": [],
   "source": [
    "#%pip install -r requirements.txt"
   ]
  },
  {
   "cell_type": "code",
   "execution_count": 4,
   "metadata": {},
   "outputs": [],
   "source": [
    "from huggingface_hub import login\n",
    "# login()"
   ]
  },
  {
   "cell_type": "code",
   "execution_count": 5,
   "metadata": {},
   "outputs": [],
   "source": [
    "# model_name='data/test'\n",
    "model_name='Qwen/Qwen2.5-Coder-0.5B'\n",
    "# model_name='google/codegemma-2b'\n",
    "# model_name='unsloth/codegemma-2b'"
   ]
  },
  {
   "cell_type": "code",
   "execution_count": 6,
   "metadata": {},
   "outputs": [
    {
     "name": "stdout",
     "output_type": "stream",
     "text": [
      "OpenVINO Devices:  ['CPU', 'GPU.0', 'GPU.1']\n",
      "Using OpenVINO device GPU.1\n",
      "CUDA available: False\n",
      "Using OpenVino: False\n"
     ]
    }
   ],
   "source": [
    "import torch\n",
    "import openvino as ov\n",
    "useOpenVino=False\n",
    "if (torch.cuda.is_available()):\n",
    "    torch.set_default_device('cuda:0')\n",
    "else: \n",
    "    print('OpenVINO Devices: ' ,ov.Core().available_devices)\n",
    "    ovDevice=ov.Core().available_devices[-1]\n",
    "    print(\"Using OpenVINO device \"+ovDevice)\n",
    "    useOpenVino=True\n",
    "useOpenVino=False\n",
    "print('CUDA available: '+str(torch.cuda.is_available()))\n",
    "print(\"Using OpenVino: \"+ str(useOpenVino))\n"
   ]
  },
  {
   "cell_type": "code",
   "execution_count": 7,
   "metadata": {},
   "outputs": [],
   "source": [
    "from transformers import AutoModelForCausalLM, AutoTokenizer, BitsAndBytesConfig\n",
    "if not useOpenVino:\n",
    "    model = AutoModelForCausalLM.from_pretrained(model_name)\n",
    "    tokenizer = AutoTokenizer.from_pretrained(model_name)"
   ]
  },
  {
   "cell_type": "code",
   "execution_count": 8,
   "metadata": {},
   "outputs": [],
   "source": [
    "from optimum.intel import OVModelForCausalLM, OVWeightQuantizationConfig\n",
    "from transformers import AutoTokenizer\n",
    "\n",
    "if useOpenVino:\n",
    "    quantization_config = OVWeightQuantizationConfig(bits=4)\n",
    "    model = OVModelForCausalLM.from_pretrained('data/openvino', library='transformers',device=ovDevice)\n",
    "    # model = OVModelForCausalLM.from_pretrained('data/openvino', library='transformers',compile=False,use_cache=True, quantization_config=quantization_config).to(ovDevice)\n",
    "    tokenizer = AutoTokenizer.from_pretrained('data/openvino/')\n",
    "#model.save_pretrained(\"data/test\")"
   ]
  },
  {
   "cell_type": "code",
   "execution_count": 12,
   "metadata": {},
   "outputs": [
    {
     "name": "stdout",
     "output_type": "stream",
     "text": [
      "Total input tokens: 21 Output token count: 20 Time: 1395.1101303100586ms Output Token/s 14.335753954222906\n",
      "Response: log(\"Hello World\");\n",
      "// Log Hello World\n",
      "console.log(\"Hello World\");\n",
      "// Log Hello World\n"
     ]
    }
   ],
   "source": [
    "import time\n",
    "import torch\n",
    "\n",
    "fim_prefix_id = tokenizer.convert_tokens_to_ids(\"<|fim_prefix|>\")\n",
    "fim_suffix_id = tokenizer.convert_tokens_to_ids(\"<|fim_suffix|>\")\n",
    "fim_middle_id = tokenizer.convert_tokens_to_ids(\"<|fim_middle|>\")\n",
    "fim_pad_id = tokenizer.convert_tokens_to_ids(\"<|fim_pad|>\")\n",
    "\n",
    "model.generation_config.pad_token_id = tokenizer.pad_token_id\n",
    "torch.compile(model.generate)\n",
    "\n",
    "def generate_response(prefix, suffix):\n",
    "    # Tokenize all prefixes and suffixes together\n",
    "    prefix_ids = tokenizer(prefix, add_special_tokens=False)[\"input_ids\"]\n",
    "    suffix_ids = tokenizer(suffix, add_special_tokens=False)[\"input_ids\"]\n",
    "\n",
    "    # Combine the IDs\n",
    "    inputs = {'input_ids': torch.tensor([[fim_prefix_id] + prefix_ids + [fim_suffix_id] + suffix_ids +[fim_middle_id]], dtype=torch.int64)}\n",
    "    inputs['attention_mask']=torch.tensor([[1]*inputs['input_ids'].shape[1]], dtype=torch.int64)\n",
    "\n",
    "    input_token_count=inputs['input_ids'].shape[1]\n",
    "\n",
    "    start = time.time()\n",
    "    profiler= torch.profiler.profile(\n",
    "            activities=[torch.profiler.ProfilerActivity.CPU, torch.profiler.ProfilerActivity.XPU],\n",
    "            #schedule=torch.profiler.schedule(wait=1, warmup=1, active=1),\n",
    "            on_trace_ready=torch.profiler.tensorboard_trace_handler('./logs'),\n",
    "            #record_shapes=True,\n",
    "            #profile_memory=True,\n",
    "            #with_stack=True,\n",
    "            #with_flops=True,\n",
    "            #with_modules=True\n",
    "    )\n",
    "    # profiler.start()\n",
    "    outputs = model.generate(**inputs,max_new_tokens=20,eos_token_id=[tokenizer.eos_token_id,fim_pad_id,fim_suffix_id ] )\n",
    "    \n",
    "    # profiler.stop();\n",
    "    # print(profiler.key_averages())\n",
    "\n",
    "    outputs = outputs[:, inputs['input_ids'].shape[1]:]\n",
    "    output_token_count=outputs.shape[-1]\n",
    "    print(\"Total input tokens: {} Output token count: {} Time: {}ms Output Token/s {}\".format(input_token_count, output_token_count, 1000*(time.time()-start), ( output_token_count)/(time.time()-start)))\n",
    "    return tokenizer.decode(outputs[0])\n",
    "# Example usage\n",
    "response = generate_response('print(\"Total input tokens: {} Output token count:'*1+'\\n// Log Hello World\\nconsole.','')\n",
    "print(f\"Response: {response}\")"
   ]
  },
  {
   "cell_type": "code",
   "execution_count": 10,
   "metadata": {},
   "outputs": [
    {
     "ename": "SystemExit",
     "evalue": "Stop right there!",
     "output_type": "error",
     "traceback": [
      "An exception has occurred, use %tb to see the full traceback.\n",
      "\u001b[0;31mSystemExit\u001b[0m\u001b[0;31m:\u001b[0m Stop right there!\n"
     ]
    },
    {
     "name": "stderr",
     "output_type": "stream",
     "text": [
      "/home/ruedi/git/open-auto-complete/fine-tune/.venv/lib/python3.12/site-packages/IPython/core/interactiveshell.py:3585: UserWarning: To exit: use 'exit', 'quit', or Ctrl-D.\n",
      "  warn(\"To exit: use 'exit', 'quit', or Ctrl-D.\", stacklevel=1)\n"
     ]
    }
   ],
   "source": [
    "raise SystemExit(\"Stop right there!\")"
   ]
  },
  {
   "cell_type": "code",
   "execution_count": null,
   "metadata": {},
   "outputs": [],
   "source": [
    "%load_ext tensorboard\n",
    "%tensorboard"
   ]
  },
  {
   "cell_type": "code",
   "execution_count": 10,
   "metadata": {},
   "outputs": [],
   "source": [
    "from http.server import ThreadingHTTPServer, BaseHTTPRequestHandler\n",
    "import json\n",
    "import ipywidgets as widgets\n",
    "\n",
    "\n",
    "\n",
    "class Handler(BaseHTTPRequestHandler):\n",
    "\n",
    "    def do_GET(self):\n",
    "        server.shutdown()\n",
    "        server.server_close()\n",
    "    def do_POST(self):\n",
    "        # read the body and parse as json\n",
    "        content_len = int(self.headers.get('content-length', -1))\n",
    "        post_body = self.rfile.read(content_len)\n",
    "        \n",
    "        # Parse the JSON data\n",
    "        try:\n",
    "            request = json.loads(post_body.decode('utf-8'))\n",
    "            prefix=request['prefix']\n",
    "            suffix=request['suffix']\n",
    "            self.send_response(200)\n",
    "            self.end_headers()\n",
    "            response=generate_response(prefix, suffix)\n",
    "            self.wfile.write(response.encode('utf8'))\n",
    "            return\n",
    "        except json.JSONDecodeError as e:\n",
    "            print(f\"Error decoding JSON: {e}\")\n",
    "            # Handle the error, e.g., send an error response\n",
    "            self.send_response(400)\n",
    "            self.end_headers()\n",
    "            self.wfile.write(b'Invalid JSON data')\n",
    "            return\n",
    "\n",
    "server = ThreadingHTTPServer(('0.0.0.0', 4444), Handler)\n",
    "server.serve_forever()\n"
   ]
  },
  {
   "cell_type": "code",
   "execution_count": null,
   "metadata": {},
   "outputs": [],
   "source": [
    "raise SystemExit(\"Stop right there!\")"
   ]
  },
  {
   "cell_type": "code",
   "execution_count": null,
   "metadata": {},
   "outputs": [],
   "source": [
    "!curl http://localhost:4444/200 -d '{\"prefix\":\"//log Hello World\\nconsole.\",\"suffix\":\"}\"}'"
   ]
  },
  {
   "cell_type": "code",
   "execution_count": null,
   "metadata": {},
   "outputs": [],
   "source": [
    "from peft import PeftModel\n",
    "base_model=AutoModelForCausalLM.from_pretrained(\"Qwen/Qwen2.5-Coder-0.5B\", use_cache=True);\n",
    "merged_model= PeftModel.from_pretrained(base_model,model_name);\n",
    "merged_model = merged_model.merge_and_unload()\n",
    "merged_model.save_pretrained(\"data/test\")\n",
    "tokenizer.save_pretrained(\"data/test\")"
   ]
  },
  {
   "cell_type": "code",
   "execution_count": null,
   "metadata": {},
   "outputs": [],
   "source": [
    "!optimum-cli export onnx --model data/test --task text-generation data/onnx"
   ]
  },
  {
   "cell_type": "code",
   "execution_count": null,
   "metadata": {},
   "outputs": [],
   "source": [
    "!optimum-cli export openvino --model {model_name} --framework=pt --task text-generation-with-past  data/openvino/"
   ]
  },
  {
   "cell_type": "markdown",
   "metadata": {},
   "source": [
    "git clone https://github.com/ggerganov/llama.cpp --depth=1\n",
    "cd llama.cpp/\n",
    "python3 -m venv .venv\n",
    "source .venv/bin/activate\n",
    "pip install -r requirements.txt\n",
    "python convert_hf_to_gguf.py ../open-auto-complete/fine-tune/data/test/ --outfile qwen_fine.gguf\n",
    "\n",
    "\n",
    "/llm/ollama/ollama create --quantize q4_K_M qwen_tuned"
   ]
  },
  {
   "cell_type": "code",
   "execution_count": null,
   "metadata": {},
   "outputs": [],
   "source": []
  }
 ],
 "metadata": {
  "kernelspec": {
   "display_name": ".venv",
   "language": "python",
   "name": "python3"
  },
  "language_info": {
   "codemirror_mode": {
    "name": "ipython",
    "version": 3
   },
   "file_extension": ".py",
   "mimetype": "text/x-python",
   "name": "python",
   "nbconvert_exporter": "python",
   "pygments_lexer": "ipython3",
   "version": "3.12.3"
  }
 },
 "nbformat": 4,
 "nbformat_minor": 4
}
