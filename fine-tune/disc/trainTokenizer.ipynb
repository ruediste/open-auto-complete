{
 "cells": [
  {
   "cell_type": "code",
   "execution_count": null,
   "metadata": {},
   "outputs": [],
   "source": [
    "# %pip install tokenizers"
   ]
  },
  {
   "cell_type": "code",
   "execution_count": 2,
   "metadata": {},
   "outputs": [
    {
     "data": {
      "text/plain": [
       "IterableDataset({\n",
       "    features: ['code', 'repo_name', 'path', 'language', 'license', 'size'],\n",
       "    num_shards: 1\n",
       "})"
      ]
     },
     "execution_count": 2,
     "metadata": {},
     "output_type": "execute_result"
    }
   ],
   "source": [
    "from datasets import load_dataset\n",
    "dataset=load_dataset('parquet',data_files=[\"data/data.parquet\"], streaming=True)['train']\n",
    "dataset\n"
   ]
  },
  {
   "cell_type": "code",
   "execution_count": null,
   "metadata": {},
   "outputs": [
    {
     "name": "stdout",
     "output_type": "stream",
     "text": [
      "\n",
      "\n",
      "\n"
     ]
    }
   ],
   "source": [
    "from tokenizers import (\n",
    "    decoders,\n",
    "    models,\n",
    "    normalizers,\n",
    "    pre_tokenizers,\n",
    "    processors,\n",
    "    trainers,\n",
    "    Tokenizer,\n",
    ")\n",
    "\n",
    "from transformers import PreTrainedTokenizerFast\n",
    "\n",
    "tokenizer = Tokenizer(models.BPE())\n",
    "tokenizer.pre_tokenizer = pre_tokenizers.ByteLevel(add_prefix_space=False)\n",
    "tokenizer.decoder=decoders.ByteLevel()\n",
    "tokenizer.clean_up_tokenization_spaces=True\n",
    "\n",
    "special_tokens = [\"<|pad|>\", \"<|mask|>\", \"<|cls|>\", \"<|cs|>\", \"<|ts|>\", \"<|css|>\"]\n",
    "tokenizer.add_special_tokens(special_tokens)\n",
    "trainer = trainers.BpeTrainer(vocab_size=5000, special_tokens=special_tokens,max_token_length=10, show_progress=True)\n",
    "\n",
    "def datasetGenerator():\n",
    "    for row in dataset.take(500):\n",
    "        yield row['code']\n",
    "\n",
    "tokenizer.train_from_iterator(datasetGenerator(), trainer=trainer)\n",
    "\n",
    "hft=PreTrainedTokenizerFast(pad_token='<|pad|>', cls_token='<|cls|>', mask_token='<|mask|>',sep_token='<|pad|>', tokenizer_object=tokenizer )\n",
    "hft.save_pretrained('data/bert')\n",
    "tokenizer=hft"
   ]
  },
  {
   "cell_type": "code",
   "execution_count": 4,
   "metadata": {},
   "outputs": [
    {
     "name": "stdout",
     "output_type": "stream",
     "text": [
      "[75, 1523, 19, 2746, 13, 1536, 24, 200, 848, 300, 325, 389, 2546]\n",
      "['f', 'oo', '.', 'bar', '(', '12', '3', ');', 'Ġh', 'el', 'lo', 'Ġw', 'orld']\n"
     ]
    },
    {
     "data": {
      "text/plain": [
       "'foo.bar(123); hello world'"
      ]
     },
     "execution_count": 4,
     "metadata": {},
     "output_type": "execute_result"
    }
   ],
   "source": [
    "ids=tokenizer(\"foo.bar(123); hello world\")[\"input_ids\"]\n",
    "print(ids)\n",
    "print(tokenizer.convert_ids_to_tokens(ids))\n",
    "tokenizer.decode(ids)\n"
   ]
  }
 ],
 "metadata": {
  "kernelspec": {
   "display_name": ".venv",
   "language": "python",
   "name": "python3"
  },
  "language_info": {
   "codemirror_mode": {
    "name": "ipython",
    "version": 3
   },
   "file_extension": ".py",
   "mimetype": "text/x-python",
   "name": "python",
   "nbconvert_exporter": "python",
   "pygments_lexer": "ipython3",
   "version": "3.12.3"
  }
 },
 "nbformat": 4,
 "nbformat_minor": 2
}
