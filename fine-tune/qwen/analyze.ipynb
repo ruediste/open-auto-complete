{
 "cells": [
  {
   "cell_type": "code",
   "execution_count": 13,
   "metadata": {},
   "outputs": [],
   "source": [
    "import json\n",
    "import os\n",
    "results=[]\n",
    "fileNr=1\n",
    "while True:\n",
    "    try:\n",
    "        with open('data/results'+str(fileNr)+'.json', 'r') as file:\n",
    "            results += json.load(file)\n",
    "        fileNr+=1\n",
    "    except FileNotFoundError:\n",
    "        break\n",
    "    \n",
    "for result in results:\n",
    "    result['chars']=result['prefixSize']+result['suffixSize']\n",
    "    result['match']=1 if result['match'] else 0"
   ]
  },
  {
   "cell_type": "code",
   "execution_count": 14,
   "metadata": {},
   "outputs": [],
   "source": [
    "import seaborn as sns\n",
    "import matplotlib.pyplot as plt\n",
    "import pandas as pd\n",
    "\n",
    "df = pd.DataFrame(results)\n",
    "pd.set_option('display.max_rows', None)\n"
   ]
  },
  {
   "cell_type": "code",
   "execution_count": null,
   "metadata": {},
   "outputs": [],
   "source": [
    "# pivoted=pd.pivot_table(df.query(\"category=='beginningOfWord' & completionSize==200\"),index=['prefixSize','suffixSize','category'], values=['match','timeMs'], aggfunc=['mean','count'])\n",
    "# pivoted=pd.pivot_table(df.query(\" completionSize==10\"),index=['prefixSize','suffixSize','category'], values=['match','timeMs'], aggfunc=['mean','count'])\n",
    "# pivoted=pd.pivot_table(df.query(\"category=='beginningOfWord'\"),index=['prefixSize','suffixSize','completionSize'], values=['match','timeMs'], aggfunc=['mean','count'])\n",
    "# pivoted=pd.pivot_table(df.query(\"category=='beginningOfWord' & prefixSize==200\"),index=['prefixSize','suffixSize','completionSize','category'], values=['match','timeMs'], aggfunc=['mean','count'])\n",
    "pivoted=pd.pivot_table(df,index=['prefixSize','suffixSize','completionSize','category'], values=['match'], aggfunc=['mean','count'])\n",
    "# pivoted=pd.pivot_table(df,index=['completionSize','category'], values=['match','timeMs'], aggfunc=['mean','count'])\n",
    "# pivoted=pd.pivot_table(df,index=['prefixSize','suffixSize','category'], values=['match','timeMs'])\n",
    "\n",
    "print(pivoted)\n",
    "\n",
    "g=sns.relplot(data=df, x='completionSize', y='match',col='prefixSize', row='suffixSize',style='category', kind=\"line\" )\n",
    "# g=sns.relplot(data=pivoted['mean'], x='completionSize', y='match',col='prefixSize', row='suffixSize',style='category', kind=\"line\")\n",
    "g.refline(y=0.5)\n",
    "# foo=g.axes[0][0]\n",
    "# foo.axvline(x=400, ls=':')\n",
    "# foo.set_xlim(200,400)\n",
    "# foo.set_ylim(0.4,0.6)\n",
    "plt.show()"
   ]
  }
 ],
 "metadata": {
  "kernelspec": {
   "display_name": ".venv",
   "language": "python",
   "name": "python3"
  },
  "language_info": {
   "codemirror_mode": {
    "name": "ipython",
    "version": 3
   },
   "file_extension": ".py",
   "mimetype": "text/x-python",
   "name": "python",
   "nbconvert_exporter": "python",
   "pygments_lexer": "ipython3",
   "version": "3.12.3"
  }
 },
 "nbformat": 4,
 "nbformat_minor": 2
}
