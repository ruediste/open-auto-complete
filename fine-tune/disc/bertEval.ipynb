{
 "cells": [
  {
   "cell_type": "code",
   "execution_count": null,
   "metadata": {},
   "outputs": [],
   "source": [
    "from transformers import AutoModelForMaskedLM, AutoTokenizer\n",
    "tokenizer=AutoTokenizer.from_pretrained('data/bert')\n",
    "\n",
    "model = AutoModelForMaskedLM.from_pretrained('data/bert')\n",
    "tokenizer = AutoTokenizer.from_pretrained('data/bert')"
   ]
  },
  {
   "cell_type": "code",
   "execution_count": 17,
   "metadata": {},
   "outputs": [],
   "source": [
    "languageIds={\n",
    "    'cs': 0,\n",
    "    'ts': 1,\n",
    "    'css': 2,\n",
    "};\n"
   ]
  },
  {
   "cell_type": "code",
   "execution_count": 29,
   "metadata": {},
   "outputs": [
    {
     "name": "stdout",
     "output_type": "stream",
     "text": [
      "{'input_ids': tensor([[1820, 2651,   34,    1,    1,    1,    1,    1,   32,  181]]), 'token_type_ids': tensor([[0, 0, 0, 0, 0, 0, 0, 0, 0, 0]]), 'attention_mask': tensor([[1, 1, 1, 1, 1, 1, 1, 1, 1, 1]])}\n",
      "[1820, 2651, 34, 1, 1, 1, 1, 1, 32, 181]\n",
      "['bool', 'Ġfirst', '=', '<|mask|>', '<|mask|>', '<|mask|>', '<|mask|>', '<|mask|>', ';', 'Ċ']\n",
      "torch.return_types.max(\n",
      "values=tensor([[0.9995, 0.9990, 1.0000, 0.4409, 0.0581, 0.2531, 0.4281, 0.4590, 0.9996,\n",
      "         0.9998]], grad_fn=<MaxBackward0>),\n",
      "indices=tensor([[1820, 2651,   34,    7,    7,    0,    0,    0,   32,  181]]))\n",
      "bool first=\"\";\n",
      "\n",
      "['bool', 'Ġfirst', '=', '\"', '\"', '<|pad|>', '<|pad|>', '<|pad|>', ';', 'Ċ']\n"
     ]
    }
   ],
   "source": [
    "import torch;\n",
    "import torch.nn.functional as F\n",
    "\n",
    "sample=tokenizer('bool first=<|mask|><|mask|><|mask|><|mask|><|mask|>;\\n', return_tensors=\"pt\")\n",
    "# sample=tokenizer('namespace Sample.Model;\\npublic class<|mask|><|mask|><|mask|><|mask|>User {\\n', return_tensors=\"pt\")\n",
    "sample['token_type_ids']= torch.tensor([[languageIds['cs']]*sample['token_type_ids'].shape[-1]], dtype=torch.int64)\n",
    "print(sample)\n",
    "print(sample['input_ids'][0].tolist())\n",
    "print(tokenizer.convert_ids_to_tokens(sample['input_ids'][0].tolist()))\n",
    "res=model(**sample).logits\n",
    "probs=F.softmax(res, dim=-1);\n",
    "\n",
    "print(probs.max(-1))\n",
    "# print(res.argmax(-1))\n",
    "res=res.argmax(-1)\n",
    "print(tokenizer.decode(res[0].tolist(), skip_special_tokens=True,))\n",
    "\n",
    "print(tokenizer.convert_ids_to_tokens(res[0].tolist()))"
   ]
  },
  {
   "cell_type": "code",
   "execution_count": null,
   "metadata": {},
   "outputs": [],
   "source": [
    "tokenizer"
   ]
  }
 ],
 "metadata": {
  "kernelspec": {
   "display_name": ".venv",
   "language": "python",
   "name": "python3"
  },
  "language_info": {
   "codemirror_mode": {
    "name": "ipython",
    "version": 3
   },
   "file_extension": ".py",
   "mimetype": "text/x-python",
   "name": "python",
   "nbconvert_exporter": "python",
   "pygments_lexer": "ipython3",
   "version": "3.12.3"
  }
 },
 "nbformat": 4,
 "nbformat_minor": 2
}
