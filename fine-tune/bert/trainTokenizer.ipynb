{
 "cells": [
  {
   "cell_type": "code",
   "execution_count": null,
   "metadata": {},
   "outputs": [],
   "source": [
    "# %pip install tokenizers"
   ]
  },
  {
   "cell_type": "code",
   "execution_count": null,
   "metadata": {},
   "outputs": [],
   "source": [
    "from datasets import load_dataset\n",
    "dataset = load_dataset(\"ruediste/codeparrot-github-code-10G\", \"cs\", split=\"train\")\n",
    "dataset\n"
   ]
  },
  {
   "cell_type": "code",
   "execution_count": null,
   "metadata": {},
   "outputs": [],
   "source": [
    "from tokenizers import (\n",
    "    decoders,\n",
    "    models,\n",
    "    normalizers,\n",
    "    pre_tokenizers,\n",
    "    processors,\n",
    "    trainers,\n",
    "    Tokenizer,\n",
    ")\n",
    "\n",
    "from transformers import PreTrainedTokenizerFast\n",
    "\n",
    "tokenizer = Tokenizer(models.BPE())\n",
    "tokenizer.pre_tokenizer = pre_tokenizers.ByteLevel(add_prefix_space=False)\n",
    "tokenizer.decoder=decoders.ByteLevel()\n",
    "\n",
    "tokenizer.clean_up_tokenization_spaces=True\n",
    "\n",
    "special_tokens = [\"<|pad|>\", \"<|mask|>\", \"<|cls|>\"]\n",
    "tokenizer.add_special_tokens(special_tokens)\n",
    "trainer = trainers.BpeTrainer(vocab_size=25000, special_tokens=special_tokens,max_token_length=10, show_progress=True)\n",
    "\n",
    "def datasetGenerator():\n",
    "    for row in dataset.take(5000):\n",
    "        yield row['code']\n",
    "\n",
    "tokenizer.train_from_iterator(datasetGenerator(), trainer=trainer)\n",
    "\n",
    "hft=PreTrainedTokenizerFast(pad_token='<|pad|>', cls_token='<|cls|>', mask_token='<|mask|>',sep_token='<|pad|>' tokenizer_object=tokenizer )\n",
    "hft.save_pretrained('data/bert1')\n",
    "tokenizer=hft"
   ]
  },
  {
   "cell_type": "code",
   "execution_count": null,
   "metadata": {},
   "outputs": [],
   "source": [
    "ids=tokenizer(\"foo.bar(123); hello world\")[\"input_ids\"]\n",
    "print(ids)\n",
    "print(tokenizer.convert_ids_to_tokens(ids))\n",
    "tokenizer.decode(ids)\n"
   ]
  }
 ],
 "metadata": {
  "kernelspec": {
   "display_name": ".venv",
   "language": "python",
   "name": "python3"
  },
  "language_info": {
   "codemirror_mode": {
    "name": "ipython",
    "version": 3
   },
   "file_extension": ".py",
   "mimetype": "text/x-python",
   "name": "python",
   "nbconvert_exporter": "python",
   "pygments_lexer": "ipython3",
   "version": "3.12.3"
  }
 },
 "nbformat": 4,
 "nbformat_minor": 2
}
